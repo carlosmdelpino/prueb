{
 "cells": [
  {
   "attachments": {},
   "cell_type": "markdown",
   "metadata": {},
   "source": [
    "# Machine Learning 2022-2023 - UMONS\n",
    "\n",
    "# Classification"
   ]
  },
  {
   "attachments": {},
   "cell_type": "markdown",
   "metadata": {},
   "source": [
    "In this lab we'll experiment a bit more with the classification task in order to help you get started with the project.\n",
    "We'll consider several models, some of which will be covered later in the course.\n",
    "We'll be using the [Wine Quality](https://archive.ics.uci.edu/ml/datasets/wine+quality) dataset, which contains several attributes of white wines.\n",
    "Each observation is associated to a rating between 0 and 10 that will be the label of our classification task.\n",
    "\n",
    "The columns of the dataframe contain the following information :\n",
    "* fixed_acidity: amount of tartaric acid in g/dm^3\n",
    "* volatile_acidity: amount of acetic acid in g/dm^3 \n",
    "* citric_acid: amount of citric acid in g/dm^3\n",
    "* residual_sugar: amount of remaining sugar after fermentation stops in g/l\n",
    "* chlorides: amount of salt in wine \n",
    "* free_sulfur_dioxide: amount of free SO2\n",
    "* total_sulfur_dioxide: amount of free and bound forms of SO2\n",
    "* density: density of the wine\n",
    "* pH: PH level of the wine on a scale from 0 to 14\n",
    "* sulphates: amount of sulphates \n",
    "* alcohol: the percent of alcohol content\n",
    "* quality: quality of the wine (score between 0 and 10)"
   ]
  },
  {
   "attachments": {},
   "cell_type": "markdown",
   "metadata": {},
   "source": [
    "**Import the necessary libraries**"
   ]
  },
  {
   "cell_type": "code",
   "execution_count": 1,
   "metadata": {},
   "outputs": [],
   "source": [
    "import matplotlib as mpl\n",
    "import matplotlib.pyplot as plt\n",
    "import numpy as np\n",
    "import pandas as pd\n",
    "import seaborn as sns\n",
    "from sklearn.discriminant_analysis import LinearDiscriminantAnalysis\n",
    "from sklearn.ensemble import GradientBoostingClassifier, RandomForestClassifier\n",
    "from sklearn.feature_selection import SelectKBest, f_classif\n",
    "from sklearn.linear_model import LogisticRegression\n",
    "from sklearn.metrics import (ConfusionMatrixDisplay, accuracy_score,\n",
    "                             confusion_matrix, log_loss)\n",
    "from sklearn.model_selection import RandomizedSearchCV, train_test_split\n",
    "from sklearn.naive_bayes import GaussianNB\n",
    "from sklearn.neighbors import KNeighborsClassifier\n",
    "from sklearn.pipeline import Pipeline\n",
    "from sklearn.preprocessing import StandardScaler\n",
    "\n",
    "sns.set_theme()\n",
    "np.random.seed(0)"
   ]
  },
  {
   "attachments": {},
   "cell_type": "markdown",
   "metadata": {},
   "source": [
    "## Data exploration"
   ]
  },
  {
   "attachments": {},
   "cell_type": "markdown",
   "metadata": {},
   "source": [
    "**1) Read the dataset 'wine.csv' and check its properties (length, types, missing values). Handle missing values if needed.** "
   ]
  },
  {
   "attachments": {},
   "cell_type": "markdown",
   "metadata": {},
   "source": [
    "## Data splitting"
   ]
  },
  {
   "attachments": {},
   "cell_type": "markdown",
   "metadata": {},
   "source": [
    "**2) We predict the target 'quality' from all other features. Split your datasets into a training and test set following a 80/20 partition using the `train_test_split` function.**"
   ]
  },
  {
   "attachments": {},
   "cell_type": "markdown",
   "metadata": {},
   "source": [
    "## Data exploration"
   ]
  },
  {
   "attachments": {},
   "cell_type": "markdown",
   "metadata": {},
   "source": [
    "**3) Look at the distribution of the variable 'quality' in the training set using `sns.countplot`.**"
   ]
  },
  {
   "attachments": {},
   "cell_type": "markdown",
   "metadata": {},
   "source": [
    "**4) For each continuous feature, plot a boxplot of this feature grouped by label values. Use the `sns.boxplot` function. Which features seem to be the most useful to predict the label 'quality'?**"
   ]
  },
  {
   "attachments": {},
   "cell_type": "markdown",
   "metadata": {},
   "source": [
    "**5) Plot the pairwise relationship of the most useful features using the function `sns.pairplot`. Plot a different color according to the value of the variable 'quality' using the `hue` parameter. What do you observe?**"
   ]
  },
  {
   "attachments": {},
   "cell_type": "markdown",
   "metadata": {},
   "source": [
    "## Data preprocessing"
   ]
  },
  {
   "attachments": {},
   "cell_type": "markdown",
   "metadata": {},
   "source": [
    "**6) Normalize the continuous features using the `StandardScaler` class. Make sure to fit it on the training dataset to avoid data leakage.**"
   ]
  },
  {
   "attachments": {},
   "cell_type": "markdown",
   "metadata": {},
   "source": [
    "## Hyperparameter tuning"
   ]
  },
  {
   "attachments": {},
   "cell_type": "markdown",
   "metadata": {},
   "source": [
    "**7) For each one of the following models, create a grid of hyperparameters based on the corresponding scikit-learn documentation:**\n",
    "- **KNN**\n",
    "- **Gaussian Naive Bayes**\n",
    "- **Linear Discriminant Analysis**\n",
    "- **Logistic Regression**\n",
    "- **Random Forest**\n",
    "- **Gradient Boosting**"
   ]
  },
  {
   "attachments": {},
   "cell_type": "markdown",
   "metadata": {},
   "source": [
    "## Model fitting"
   ]
  },
  {
   "attachments": {},
   "cell_type": "markdown",
   "metadata": {},
   "source": [
    "**8) For each one of these models, select the hyperparameters that give the lowest log loss using the `RandomizedSearchCV` class. Compute the accuracy and log loss on the test dataset.**\n",
    "\n",
    "**Print the best hyperparameters corresponding to each model and plot a confusion matrix using the function `confusion_matrix` and the class `ConfusionMatrixDisplay`.**"
   ]
  },
  {
   "attachments": {},
   "cell_type": "markdown",
   "metadata": {},
   "source": [
    "## Test metrics"
   ]
  },
  {
   "attachments": {},
   "cell_type": "markdown",
   "metadata": {},
   "source": [
    "**9) Create a pandas dataframe where each row corresponds to a model. Display the accuracy and log loss computed on the test set are displayed in two columns. What are the advantages of the log loss over the accuracy?**"
   ]
  }
 ],
 "metadata": {
  "kernelspec": {
   "display_name": "base",
   "language": "python",
   "name": "python3"
  },
  "language_info": {
   "codemirror_mode": {
    "name": "ipython",
    "version": 3
   },
   "file_extension": ".py",
   "mimetype": "text/x-python",
   "name": "python",
   "nbconvert_exporter": "python",
   "pygments_lexer": "ipython3",
   "version": "3.9.12"
  },
  "orig_nbformat": 4
 },
 "nbformat": 4,
 "nbformat_minor": 2
}
